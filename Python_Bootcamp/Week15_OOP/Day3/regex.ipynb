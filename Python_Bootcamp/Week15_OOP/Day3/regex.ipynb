{
 "cells": [
  {
   "cell_type": "code",
   "execution_count": 1,
   "metadata": {},
   "outputs": [
    {
     "name": "stdout",
     "output_type": "stream",
     "text": [
      "['at', 'at']\n"
     ]
    }
   ],
   "source": [
    "import re\n",
    "\n",
    "string = \"at what time?\"\n",
    "match = re.findall('at',string)\n",
    "print (match)"
   ]
  },
  {
   "cell_type": "code",
   "execution_count": 4,
   "metadata": {},
   "outputs": [
    {
     "name": "stdout",
     "output_type": "stream",
     "text": [
      "String found at:  8\n"
     ]
    }
   ],
   "source": [
    "import re\n",
    "\n",
    "string = \"at what time?\"\n",
    "match = re.search('ti',string)\n",
    "if (match):\n",
    "    print(\"String found at: \" ,match.start())\n",
    "else:\n",
    "    print(\"String not found!\")"
   ]
  },
  {
   "cell_type": "code",
   "execution_count": 5,
   "metadata": {},
   "outputs": [
    {
     "name": "stdout",
     "output_type": "stream",
     "text": [
      "['', 't wh', 't time?']\n"
     ]
    }
   ],
   "source": [
    "import re\n",
    "\n",
    "string = \"at what time?\"\n",
    "match = re.split('a',string)\n",
    "print (match)"
   ]
  },
  {
   "cell_type": "code",
   "execution_count": 14,
   "metadata": {},
   "outputs": [
    {
     "name": "stdout",
     "output_type": "stream",
     "text": [
      "at what time?\n"
     ]
    }
   ],
   "source": [
    "import re\n",
    "\n",
    "string = \"at what time?\"\n",
    "match = re.sub(\"\\a\",\"!!!\",string)\n",
    "print (match)"
   ]
  },
  {
   "cell_type": "code",
   "execution_count": null,
   "metadata": {},
   "outputs": [],
   "source": []
  }
 ],
 "metadata": {
  "kernelspec": {
   "display_name": "Python 3",
   "language": "python",
   "name": "python3"
  },
  "language_info": {
   "codemirror_mode": {
    "name": "ipython",
    "version": 3
   },
   "file_extension": ".py",
   "mimetype": "text/x-python",
   "name": "python",
   "nbconvert_exporter": "python",
   "pygments_lexer": "ipython3",
   "version": "3.10.0"
  }
 },
 "nbformat": 4,
 "nbformat_minor": 2
}
