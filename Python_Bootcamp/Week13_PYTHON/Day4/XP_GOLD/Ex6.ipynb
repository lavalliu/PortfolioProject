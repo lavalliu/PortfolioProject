{
 "cells": [
  {
   "cell_type": "code",
   "execution_count": 13,
   "metadata": {},
   "outputs": [
    {
     "name": "stdout",
     "output_type": "stream",
     "text": [
      "3\n",
      "33\n",
      "333\n",
      "3333\n",
      "The sum is : 3702\n"
     ]
    }
   ],
   "source": [
    "def sum(x):\n",
    "    i = 1\n",
    "    summ = 0\n",
    "    while i < 5:\n",
    "        string = str(x) * i\n",
    "        print(string)\n",
    "        summ = summ + int(string)\n",
    "        i += 1\n",
    "    print(f\"The sum is : {summ}\")\n",
    "\n",
    "sum(3)"
   ]
  }
 ],
 "metadata": {
  "kernelspec": {
   "display_name": "Python 3",
   "language": "python",
   "name": "python3"
  },
  "language_info": {
   "codemirror_mode": {
    "name": "ipython",
    "version": 3
   },
   "file_extension": ".py",
   "mimetype": "text/x-python",
   "name": "python",
   "nbconvert_exporter": "python",
   "pygments_lexer": "ipython3",
   "version": "3.10.0"
  }
 },
 "nbformat": 4,
 "nbformat_minor": 2
}
