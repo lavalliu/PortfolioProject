{
 "cells": [
  {
   "cell_type": "code",
   "execution_count": 57,
   "metadata": {},
   "outputs": [
    {
     "name": "stdout",
     "output_type": "stream",
     "text": [
      "['Water', 'Bread', 'Fertilizer']\n"
     ]
    }
   ],
   "source": [
    "items_purchase = {\n",
    "  \"Water\": \"$1\",\n",
    "  \"Bread\": \"$3\",\n",
    "  \"TV\": \"$1,000\",\n",
    "  \"Fertilizer\": \"$20\"\n",
    "}\n",
    "\n",
    "wallet = \"$300\"\n",
    "\n",
    "list = []\n",
    "intwallet = wallet.lstrip(\"$\")\n",
    "itemvalue = 0\n",
    "\n",
    "def afford():\n",
    "    for key in items_purchase:\n",
    "        itemvalue = items_purchase.get(key).lstrip(\"$\")\n",
    "        if itemvalue.find(\",\") != -1:\n",
    "            itemvalue = itemvalue.replace(\",\", \"\")\n",
    "        itemvalue = int(itemvalue)\n",
    "        if itemvalue  < int(intwallet):\n",
    "            list.append(key)\n",
    "    if list == []:\n",
    "        print(\"Nothing\")\n",
    "    else:\n",
    "        print(list)\n",
    "\n",
    "afford()"
   ]
  },
  {
   "cell_type": "code",
   "execution_count": 56,
   "metadata": {},
   "outputs": [
    {
     "name": "stdout",
     "output_type": "stream",
     "text": [
      "['Apple', 'Honey', 'Fan', 'Bananas', 'Spoon']\n"
     ]
    }
   ],
   "source": [
    "items_purchase = {\n",
    "  \"Apple\": \"$4\",\n",
    "  \"Honey\": \"$3\",\n",
    "  \"Fan\": \"$14\",\n",
    "  \"Bananas\": \"$4\",\n",
    "  \"Pan\": \"$100\",\n",
    "  \"Spoon\": \"$2\"\n",
    "}\n",
    "\n",
    "wallet = \"$100\" \n",
    "\n",
    "\n",
    "list = []\n",
    "intwallet = wallet.lstrip(\"$\")\n",
    "itemvalue = 0\n",
    "\n",
    "def afford():\n",
    "    for key in items_purchase:\n",
    "        itemvalue = items_purchase.get(key).lstrip(\"$\")\n",
    "        if itemvalue.find(\",\") != -1:\n",
    "            itemvalue = itemvalue.replace(\",\", \"\")\n",
    "        itemvalue = int(itemvalue)\n",
    "        if itemvalue  < int(intwallet):\n",
    "            list.append(key)\n",
    "    if list == []:\n",
    "        print(\"Nothing\")\n",
    "    else:\n",
    "        print(list)\n",
    "\n",
    "afford()"
   ]
  },
  {
   "cell_type": "code",
   "execution_count": 55,
   "metadata": {},
   "outputs": [
    {
     "name": "stdout",
     "output_type": "stream",
     "text": [
      "Nothing\n"
     ]
    }
   ],
   "source": [
    "items_purchase = {\n",
    "  \"Phone\": \"$999\",\n",
    "  \"Speakers\": \"$300\",\n",
    "  \"Laptop\": \"$5,000\",\n",
    "  \"PC\": \"$1200\"\n",
    "}\n",
    "\n",
    "wallet = \"$1\" \n",
    "\n",
    "list = []\n",
    "intwallet = wallet.lstrip(\"$\")\n",
    "itemvalue = 0\n",
    "\n",
    "def afford():\n",
    "    for key in items_purchase:\n",
    "        itemvalue = items_purchase.get(key).lstrip(\"$\")\n",
    "        if itemvalue.find(\",\") != -1:\n",
    "            itemvalue = itemvalue.replace(\",\", \"\")\n",
    "        itemvalue = int(itemvalue)\n",
    "        if itemvalue  < int(intwallet):\n",
    "            list.append(key)\n",
    "    if list == []:\n",
    "        print(\"Nothing\")\n",
    "    else:\n",
    "        print(list)\n",
    "\n",
    "afford()"
   ]
  }
 ],
 "metadata": {
  "kernelspec": {
   "display_name": "Python 3",
   "language": "python",
   "name": "python3"
  },
  "language_info": {
   "codemirror_mode": {
    "name": "ipython",
    "version": 3
   },
   "file_extension": ".py",
   "mimetype": "text/x-python",
   "name": "python",
   "nbconvert_exporter": "python",
   "pygments_lexer": "ipython3",
   "version": "3.10.0"
  }
 },
 "nbformat": 4,
 "nbformat_minor": 2
}
