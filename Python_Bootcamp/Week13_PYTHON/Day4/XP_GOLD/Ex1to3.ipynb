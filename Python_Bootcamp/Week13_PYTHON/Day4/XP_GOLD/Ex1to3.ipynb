{
 "cells": [
  {
   "cell_type": "code",
   "execution_count": 2,
   "metadata": {},
   "outputs": [
    {
     "name": "stdout",
     "output_type": "stream",
     "text": [
      "Welcome to the club -  You can lookup the birthdays of the people in the list!” :\n",
      "The birthdate of Laval is 1980/10/22\n"
     ]
    }
   ],
   "source": [
    "birthdays = {\n",
    "    'Laval' : '1980/10/22',\n",
    "    'Laura' : '1999/09/24',\n",
    "    'Jessica' : '2006/09/26',\n",
    "    'Joey' : '2001/09/12',\n",
    "    'Nathalie' : '1981/09/12'\n",
    "}\n",
    "names = list(birthdays.keys())\n",
    "\n",
    "print(\"Welcome to the club -  You can lookup the birthdays of the people in the list!” :\")\n",
    "name = input(\"Enter the name of the person for a birthday search : \")\n",
    "if name not in names:\n",
    "    print(f\"Sorry, we don’t have the birthday information for {name}\")\n",
    "else:\n",
    "    print(f\"The birthdate of {name} is {birthdays.get(name)}\")"
   ]
  },
  {
   "cell_type": "code",
   "execution_count": 4,
   "metadata": {},
   "outputs": [
    {
     "name": "stdout",
     "output_type": "stream",
     "text": [
      "Laval\n",
      "Laura\n",
      "Jessica\n",
      "Joey\n",
      "Nathalie\n",
      "Welcome to the club -  You can lookup the birthdays of the people in the list!” :\n",
      "The birthdate of Laval is 1980/10/22\n"
     ]
    }
   ],
   "source": [
    "birthdays = {\n",
    "    'Laval' : '1980/10/22',\n",
    "    'Laura' : '1999/09/24',\n",
    "    'Jessica' : '2006/09/26',\n",
    "    'Joey' : '2001/09/12',\n",
    "    'Nathalie' : '1981/09/12'\n",
    "}\n",
    "\n",
    "names = list(birthdays.keys())\n",
    "for value in names:\n",
    "    print(value)\n",
    "\n",
    "print(\"Welcome to the club -  You can lookup the birthdays of the people in the list!” :\")\n",
    "name = input(\"Enter the name of the person for a birthday search : \")\n",
    "if name not in names:\n",
    "    print(f\"Sorry, we don’t have the birthday information for {name}\")\n",
    "else:\n",
    "    print(f\"The birthdate of {name} is {birthdays.get(name)}\")"
   ]
  },
  {
   "cell_type": "code",
   "execution_count": 16,
   "metadata": {},
   "outputs": [
    {
     "name": "stdout",
     "output_type": "stream",
     "text": [
      "Laval\n",
      "Laura\n",
      "Jessica\n",
      "Joey\n",
      "Nathalie\n",
      "Welcome to the club -  You can lookup the birthdays of the people in the list!” :\n",
      "This is the new List\n",
      "Laval 1980/10/22\n",
      "Laura 1999/09/24\n",
      "Jessica 2006/09/26\n",
      "Joey 2001/09/12\n",
      "Nathalie 1981/09/12\n",
      "Adrien 2004/12/22\n"
     ]
    }
   ],
   "source": [
    "birthdays = {\n",
    "    'Laval' : '1980/10/22',\n",
    "    'Laura' : '1999/09/24',\n",
    "    'Jessica' : '2006/09/26',\n",
    "    'Joey' : '2001/09/12',\n",
    "    'Nathalie' : '1981/09/12'\n",
    "}\n",
    "\n",
    "names = list(birthdays.keys())\n",
    "for value in names:\n",
    "    print(value)\n",
    "\n",
    "print(\"Welcome to the club -  You can lookup the birthdays of the people in the list!” :\")\n",
    "newname = input(\"Enter the name of a person  : \")\n",
    "if newname not in names:\n",
    "    newbdate = input(\"Enter the birthdate of that person in format 'YYYY/MM/DD' : \")\n",
    "    birthdays.update({newname : newbdate})\n",
    "    names = list(birthdays.keys())\n",
    "    print(\"This is the new List\")\n",
    "    for key in names:\n",
    "        print(key, birthdays[key])\n",
    "else:\n",
    "    print(f\"The birthdate of {newname} is {birthdays.get(newname)} and already exists in the list\")"
   ]
  }
 ],
 "metadata": {
  "kernelspec": {
   "display_name": "Python 3",
   "language": "python",
   "name": "python3"
  },
  "language_info": {
   "codemirror_mode": {
    "name": "ipython",
    "version": 3
   },
   "file_extension": ".py",
   "mimetype": "text/x-python",
   "name": "python",
   "nbconvert_exporter": "python",
   "pygments_lexer": "ipython3",
   "version": "3.10.0"
  }
 },
 "nbformat": 4,
 "nbformat_minor": 2
}
