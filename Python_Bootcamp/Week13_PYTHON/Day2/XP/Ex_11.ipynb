{
 "cells": [
  {
   "cell_type": "code",
   "execution_count": 1,
   "metadata": {},
   "outputs": [
    {
     "name": "stdout",
     "output_type": "stream",
     "text": [
      "50\n"
     ]
    }
   ],
   "source": [
    "i = 0\n",
    "ticket = 0\n",
    "total = 0\n",
    "family_member_age = [3,8,10,40,41]\n",
    "for age in family_member_age:\n",
    "    match age:\n",
    "        case age if (age > 3 and age < 12) :\n",
    "            ticket = 10\n",
    "        case age if (age > 12) :\n",
    "            ticket = 15\n",
    "        case _ :\n",
    "            ticket = 0\n",
    "    total = total + ticket\n",
    "print(total)"
   ]
  }
 ],
 "metadata": {
  "kernelspec": {
   "display_name": "Python 3",
   "language": "python",
   "name": "python3"
  },
  "language_info": {
   "codemirror_mode": {
    "name": "ipython",
    "version": 3
   },
   "file_extension": ".py",
   "mimetype": "text/x-python",
   "name": "python",
   "nbconvert_exporter": "python",
   "pygments_lexer": "ipython3",
   "version": "3.10.0"
  }
 },
 "nbformat": 4,
 "nbformat_minor": 2
}
