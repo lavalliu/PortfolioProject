{
 "cells": [
  {
   "cell_type": "code",
   "execution_count": 20,
   "metadata": {},
   "outputs": [
    {
     "name": "stdout",
     "output_type": "stream",
     "text": [
      "In the fruit shop a banana costs 4$, an apple, 2$, an orange, 1.5$ and a pear, 3$.\n"
     ]
    }
   ],
   "source": [
    "items = {\n",
    "    \"banana\": 4,\n",
    "    \"apple\": 2,\n",
    "    \"orange\": 1.5,\n",
    "    \"pear\": 3\n",
    "}\n",
    "\n",
    "print(f\"In the fruit shop a {list(items.keys())[0]} costs {list(items.values())[0]}$, an {list(items.keys())[1]}, {list(items.values())[1]}$, an {list(items.keys())[2]}, {list(items.values())[2]}$ and a {list(items.keys())[3]}, {list(items.values())[3]}$.\")"
   ]
  },
  {
   "cell_type": "code",
   "execution_count": 22,
   "metadata": {},
   "outputs": [
    {
     "name": "stdout",
     "output_type": "stream",
     "text": [
      "Total cost for banana is 4 multiply by 10 = 40\n",
      "Total cost for apple is 2 multiply by 5 = 10\n",
      "Total cost for orange is 1.5 multiply by 24 = 36.0\n",
      "Total cost for pear is 3 multiply by 1 = 3\n",
      "The total amount for all the items is 89\n"
     ]
    }
   ],
   "source": [
    "items = {\n",
    "    \"banana\": {\"price\": 4 , \"stock\":10},\n",
    "    \"apple\": {\"price\": 2, \"stock\":5},\n",
    "    \"orange\": {\"price\": 1.5 , \"stock\":24},\n",
    "    \"pear\": {\"price\": 3 , \"stock\":1}\n",
    "}\n",
    "\n",
    "counter = totalsum = 0\n",
    "for item, info in items.items():\n",
    "    print(f\"Total cost for {item} is {info['price']} multiply by {info['stock']} = {info['price'] * info['stock']}\")\n",
    "    counter += 1\n",
    "    totalsum = totalsum + (info['price'] * info['stock'])\n",
    "\n",
    "print(f\"The total amount for all the items is {int(totalsum)}\")"
   ]
  }
 ],
 "metadata": {
  "kernelspec": {
   "display_name": "Python 3",
   "language": "python",
   "name": "python3"
  },
  "language_info": {
   "codemirror_mode": {
    "name": "ipython",
    "version": 3
   },
   "file_extension": ".py",
   "mimetype": "text/x-python",
   "name": "python",
   "nbconvert_exporter": "python",
   "pygments_lexer": "ipython3",
   "version": "3.10.0"
  }
 },
 "nbformat": 4,
 "nbformat_minor": 2
}
