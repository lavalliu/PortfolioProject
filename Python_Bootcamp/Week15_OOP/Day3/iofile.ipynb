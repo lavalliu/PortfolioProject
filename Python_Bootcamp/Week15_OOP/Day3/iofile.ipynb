{
 "cells": [
  {
   "cell_type": "code",
   "execution_count": 2,
   "metadata": {},
   "outputs": [],
   "source": [
    "f = open('secrets.txt')\n",
    "secret_data = f.read()\n",
    "# secret_data is a string\n",
    "f.close()\n"
   ]
  },
  {
   "cell_type": "code",
   "execution_count": 11,
   "metadata": {},
   "outputs": [],
   "source": [
    "try:\n",
    "    f = open('secrets.txt', 'w+')\n",
    "    f.write('This is a newest line')\n",
    "    f = open('secrets.txt', 'a+')\n",
    "    f.write('\\nthis is and additional append')\n",
    "    f.write('\\nthis line also is appended')\n",
    "finally:\n",
    "    f.close()"
   ]
  },
  {
   "cell_type": "code",
   "execution_count": 15,
   "metadata": {},
   "outputs": [],
   "source": [
    "# f = open('output.txt', 'w')\n",
    "# for i in range(10):\n",
    "#     f.write(\"this is line: %i\\n\"%i)\n",
    "# f.close()\n",
    "\n",
    "with open('output.txt', 'w') as f:\n",
    "    for i in range(10):\n",
    "       f.write(\"this is line: %i\\n\"%(i + 1))"
   ]
  },
  {
   "cell_type": "code",
   "execution_count": 22,
   "metadata": {},
   "outputs": [
    {
     "name": "stdout",
     "output_type": "stream",
     "text": [
      "Kids\n",
      "\n",
      "Family\n",
      "\n",
      "Friends\n",
      "\n",
      "Dog\n",
      "\n",
      "Fish\n",
      "\n",
      "Travel\n"
     ]
    }
   ],
   "source": [
    "for line in open('secrets copy.txt','r'):\n",
    "    print(line)\n"
   ]
  },
  {
   "cell_type": "code",
   "execution_count": null,
   "metadata": {},
   "outputs": [],
   "source": [
    "with open('nameslist.txt','r') as f:\n",
    "    for line in f:\n",
    "        print(line)\n"
   ]
  },
  {
   "cell_type": "code",
   "execution_count": 37,
   "metadata": {},
   "outputs": [
    {
     "name": "stdout",
     "output_type": "stream",
     "text": [
      "Luke\n",
      "Lea\n",
      "Lea\n",
      "Luke\n"
     ]
    }
   ],
   "source": [
    "with open('nameslist.txt','r') as f:\n",
    "    for _ in range(4):\n",
    "        next(f)\n",
    "        fifthLine = f.readline()\n",
    "        print(fifthLine.strip())"
   ]
  }
 ],
 "metadata": {
  "kernelspec": {
   "display_name": "Python 3",
   "language": "python",
   "name": "python3"
  },
  "language_info": {
   "codemirror_mode": {
    "name": "ipython",
    "version": 3
   },
   "file_extension": ".py",
   "mimetype": "text/x-python",
   "name": "python",
   "nbconvert_exporter": "python",
   "pygments_lexer": "ipython3",
   "version": "3.10.0"
  }
 },
 "nbformat": 4,
 "nbformat_minor": 2
}
