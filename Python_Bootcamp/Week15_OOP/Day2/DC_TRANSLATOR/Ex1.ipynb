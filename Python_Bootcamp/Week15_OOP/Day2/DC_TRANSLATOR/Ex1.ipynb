{
 "cells": [
  {
   "cell_type": "code",
   "execution_count": 2,
   "metadata": {},
   "outputs": [
    {
     "data": {
      "text/plain": [
       "{'Bonjour': 'Hello',\n",
       " 'Au revoir': 'Goodbye',\n",
       " 'Bienvenue': 'Welcome',\n",
       " 'A bientôt': 'We look forward to hearing from you soon.'}"
      ]
     },
     "execution_count": 2,
     "metadata": {},
     "output_type": "execute_result"
    }
   ],
   "source": [
    "from translate import Translator\n",
    "translator=Translator(to_lang=\"en\",from_lang=\"fr\")\n",
    "french_words= [\"Bonjour\", \"Au revoir\", \"Bienvenue\", \"A bientôt\"]\n",
    "def translate(word):\n",
    "    return translator.translate(word)\n",
    "translated_words=list(map(translate,french_words))\n",
    "# to dictionary\n",
    "french_dict=dict(zip(french_words,translated_words))\n",
    "french_dict"
   ]
  }
 ],
 "metadata": {
  "kernelspec": {
   "display_name": "Python 3",
   "language": "python",
   "name": "python3"
  },
  "language_info": {
   "codemirror_mode": {
    "name": "ipython",
    "version": 3
   },
   "file_extension": ".py",
   "mimetype": "text/x-python",
   "name": "python",
   "nbconvert_exporter": "python",
   "pygments_lexer": "ipython3",
   "version": "3.10.0"
  }
 },
 "nbformat": 4,
 "nbformat_minor": 2
}
