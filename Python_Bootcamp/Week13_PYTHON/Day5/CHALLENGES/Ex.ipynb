{
 "cells": [
  {
   "cell_type": "code",
   "execution_count": 7,
   "metadata": {},
   "outputs": [
    {
     "name": "stdout",
     "output_type": "stream",
     "text": [
      "['Fish']\n"
     ]
    }
   ],
   "source": [
    "list = []\n",
    "list.insert(0,'Fish')\n",
    "print(list)"
   ]
  },
  {
   "cell_type": "code",
   "execution_count": 13,
   "metadata": {},
   "outputs": [
    {
     "name": "stdout",
     "output_type": "stream",
     "text": [
      "There are 7 spaces in the string\n"
     ]
    }
   ],
   "source": [
    "string = input(\"Enter your string : \")\n",
    "counter = 0\n",
    "\n",
    "for char in string:\n",
    "    if char == \" \":\n",
    "        counter += 1\n",
    "\n",
    "print(f\"There are {counter} spaces in the string\")"
   ]
  },
  {
   "cell_type": "code",
   "execution_count": 20,
   "metadata": {},
   "outputs": [
    {
     "name": "stdout",
     "output_type": "stream",
     "text": [
      "There are 10 lowecase characters and 1 uppercase characters in the string\n"
     ]
    }
   ],
   "source": [
    "import string\n",
    "\n",
    "input_string = input(\"Enter your string : \")\n",
    "uppercase = 0\n",
    "lowercase = 0\n",
    "\n",
    "for char in input_string:\n",
    "    if char in (string.ascii_lowercase):\n",
    "        lowercase += 1\n",
    "    if char in (string.ascii_uppercase):\n",
    "        uppercase += 1\n",
    "\n",
    "print(f\"There are {lowercase} lowecase characters and {uppercase} uppercase characters in the string\")"
   ]
  },
  {
   "cell_type": "code",
   "execution_count": 53,
   "metadata": {},
   "outputs": [
    {
     "name": "stdout",
     "output_type": "stream",
     "text": [
      "12\n"
     ]
    }
   ],
   "source": [
    "def my_sum(summ):\n",
    "    sum = 0\n",
    "    for num in summ:\n",
    "        sum += num\n",
    "    print(sum)\n",
    "\n",
    "my_sum([1,5,4,2])"
   ]
  },
  {
   "cell_type": "code",
   "execution_count": 55,
   "metadata": {},
   "outputs": [
    {
     "name": "stdout",
     "output_type": "stream",
     "text": [
      "50\n"
     ]
    }
   ],
   "source": [
    "def find_max(max): \n",
    "    max_num = 0\n",
    "    for num in max:\n",
    "        if num > max_num:\n",
    "            max_num = num\n",
    "\n",
    "    print(max_num)\n",
    "\n",
    "find_max([0,1,3,50])"
   ]
  },
  {
   "cell_type": "code",
   "execution_count": 57,
   "metadata": {},
   "outputs": [
    {
     "name": "stdout",
     "output_type": "stream",
     "text": [
      "1\n",
      "2\n",
      "3\n",
      "4\n",
      "The factorial of 4 is 24\n"
     ]
    }
   ],
   "source": [
    "def factorial(factor):\n",
    "    fact = 1\n",
    "    i = 1\n",
    "\n",
    "    while i <= factor:\n",
    "        print(i)\n",
    "        fact = fact * i\n",
    "        i += 1\n",
    "\n",
    "    print(f\"The factorial of {factor} is {fact}\")\n",
    "\n",
    "factorial(4)"
   ]
  },
  {
   "cell_type": "code",
   "execution_count": 59,
   "metadata": {},
   "outputs": [
    {
     "name": "stdout",
     "output_type": "stream",
     "text": [
      "There is/are 2 occurence(s) of 'a' in ['a', 'a', 't', 'o']\n"
     ]
    }
   ],
   "source": [
    "def list_count(list,char):\n",
    "    count = 0\n",
    "\n",
    "    for find in list:\n",
    "        if find == char:\n",
    "            count += 1\n",
    "\n",
    "    print(f\"There is/are {count} occurence(s) of '{char}' in {list}\")\n",
    "\n",
    "list_count(['a','a','t','o'],'a')"
   ]
  },
  {
   "cell_type": "code",
   "execution_count": 61,
   "metadata": {},
   "outputs": [
    {
     "name": "stdout",
     "output_type": "stream",
     "text": [
      "The L2-norm of [1, 2, 2] is 9\n"
     ]
    }
   ],
   "source": [
    "def norm(list):\n",
    "    result = 0\n",
    "\n",
    "    for num in list:\n",
    "        result = result + (num * num)\n",
    "\n",
    "    print(f\"The L2-norm of {list} is {result}\")\n",
    "\n",
    "norm([1,2,2])"
   ]
  },
  {
   "cell_type": "code",
   "execution_count": 109,
   "metadata": {},
   "outputs": [
    {
     "name": "stdout",
     "output_type": "stream",
     "text": [
      "True [7, 6, 5, 5, 2, 0] is monotonic\n",
      "True [2, 3, 3, 3] is monotonic\n",
      "False [1, 2, 0, 4] is non monotonic\n"
     ]
    }
   ],
   "source": [
    "def is_mono(list):\n",
    "    asc = 0\n",
    "    desc = 1\n",
    "    previous_num = 0\n",
    "    for num in list:\n",
    "        if num >= previous_num:\n",
    "            asc += 1\n",
    "        if num <= previous_num:\n",
    "            desc += 1 \n",
    "        previous_num = num\n",
    "    if asc == len(list) or desc == len(list):    \n",
    "        print(f\"True {list} is monotonic\")\n",
    "    else:\n",
    "        print(f\"False {list} is non monotonic\")\n",
    "\n",
    "\n",
    "is_mono([7,6,5,5,2,0])\n",
    "is_mono([2,3,3,3])\n",
    "is_mono([1,2,0,4])\n",
    "        "
   ]
  },
  {
   "cell_type": "code",
   "execution_count": 140,
   "metadata": {},
   "outputs": [
    {
     "name": "stdout",
     "output_type": "stream",
     "text": [
      "Longest word in the 'crazy boy of mine' is : crazy\n"
     ]
    }
   ],
   "source": [
    "def longest_word(sentence):\n",
    "    list = sentence.split(\" \")\n",
    "    length = 0\n",
    "    i = j = 0\n",
    "    for word in list:\n",
    "        if len(word) > length:\n",
    "            length = len(word)\n",
    "            j = i\n",
    "        i += 1\n",
    "    print(f\"Longest word in the '{sentence}' is : {list[j]}\")\n",
    "\n",
    "longest_word(input(\"Enter Your sentence : \"))"
   ]
  },
  {
   "cell_type": "code",
   "execution_count": 141,
   "metadata": {},
   "outputs": [
    {
     "name": "stdout",
     "output_type": "stream",
     "text": [
      "['of', 'me', 'ok']\n",
      "[1, 7, 9, 4]\n"
     ]
    }
   ],
   "source": [
    "mixed = [1,\"of\",\"me\",7,\"ok\",9,4]\n",
    "string = []\n",
    "integer = []\n",
    "\n",
    "for item in mixed:\n",
    "    if type(item) == str:\n",
    "        string.append(item)\n",
    "    if type(item) == int:\n",
    "        integer.append(item)\n",
    "    \n",
    "print(string)\n",
    "print(integer)"
   ]
  },
  {
   "cell_type": "code",
   "execution_count": 167,
   "metadata": {},
   "outputs": [
    {
     "name": "stdout",
     "output_type": "stream",
     "text": [
      "YES!! 'radar' is a palindrome\n",
      "Nopes 'John' is not a palindrome\n"
     ]
    }
   ],
   "source": [
    "def is_palindrome(str):\n",
    "    string=str.lower()\n",
    "    i = 0\n",
    "    loop = (len(string)-1)/2\n",
    "    length = len(string)-1\n",
    "    while i <= loop:\n",
    "        if string[i] == string[length]:\n",
    "            if i == length:\n",
    "                print(f\"YES!! '{str}' is a palindrome\")\n",
    "        else:\n",
    "            print(f\"Nopes '{str}' is not a palindrome\")\n",
    "            break\n",
    "        i += 1\n",
    "        length -= 1\n",
    "\n",
    "is_palindrome('radar')\n",
    "is_palindrome('John')\n",
    "\n"
   ]
  },
  {
   "cell_type": "code",
   "execution_count": 173,
   "metadata": {},
   "outputs": [
    {
     "name": "stdout",
     "output_type": "stream",
     "text": [
      "1\n"
     ]
    }
   ],
   "source": [
    "def sum_over_k(sentence, k):\n",
    "    counter = 0\n",
    "    words = sentence.split(\" \")\n",
    "    for word in words:\n",
    "        if len(word) > int(k):\n",
    "            counter += 1\n",
    "    print(counter)\n",
    "\n",
    "sum_over_k(sentence=input(\"Enter a sentence : \"),k=input(\"Enter the length of the words you want to have the count of\"))\n"
   ]
  },
  {
   "cell_type": "code",
   "execution_count": 193,
   "metadata": {},
   "outputs": [
    {
     "name": "stdout",
     "output_type": "stream",
     "text": [
      "The average value of the dictionary is 3\n"
     ]
    }
   ],
   "source": [
    "def  dict_avg(values):\n",
    "    sum = i = 0\n",
    "\n",
    "    for key in values:\n",
    "        sum = sum + values.get(key)\n",
    "        i += 1\n",
    "    print(f\"The average value of the dictionary is {int(sum/i)}\")\n",
    "\n",
    "dict_avg({'a': 1,'b':2,'c':8,'d': 1})\n"
   ]
  },
  {
   "cell_type": "code",
   "execution_count": 227,
   "metadata": {},
   "outputs": [
    {
     "name": "stdout",
     "output_type": "stream",
     "text": [
      "[[2, 5, 10], [5, 2, 4], [10, 1, 2]]\n"
     ]
    }
   ],
   "source": [
    "results = []\n",
    "\n",
    "def common_div(a,b):\n",
    "    for i in range(2, min(a,b)+1):\n",
    "        result = []\n",
    "        if a % i == 0 and b % i == 0:\n",
    "            result.append(i)\n",
    "            result.append(int(a/i))\n",
    "            result.append(int(b/i))\n",
    "            results.append(result)\n",
    "    print(results)\n",
    "\n",
    "common_div(10,20)"
   ]
  },
  {
   "cell_type": "code",
   "execution_count": 206,
   "metadata": {},
   "outputs": [
    {
     "name": "stdout",
     "output_type": "stream",
     "text": [
      "True, 11 is a prime number\n"
     ]
    }
   ],
   "source": [
    "def is_prime(num):\n",
    "    if num %2 != 0:\n",
    "        print(f\"True, {num} is a prime number\")\n",
    "    else:\n",
    "        print(f\"False, {num} is not a prime number\")\n",
    "\n",
    "is_prime(11)"
   ]
  },
  {
   "cell_type": "code",
   "execution_count": 229,
   "metadata": {},
   "outputs": [
    {
     "name": "stdout",
     "output_type": "stream",
     "text": [
      "[2, 4]\n"
     ]
    }
   ],
   "source": [
    "def weird_print(array1):\n",
    "    i = 0\n",
    "    result = []\n",
    "    for value in array1[::2]:\n",
    "        if value % 2 == 0:\n",
    "            result.append(value)\n",
    "    print(result)\n",
    "\n",
    "weird_print([1,2,2,3,4,5])"
   ]
  },
  {
   "cell_type": "code",
   "execution_count": 22,
   "metadata": {},
   "outputs": [
    {
     "name": "stdout",
     "output_type": "stream",
     "text": [
      "int: 0, str: 0 , float: 0, bool: 0\n"
     ]
    }
   ],
   "source": [
    "def type_count(**kwargs):\n",
    "    integer = string = floating = boolean = 0\n",
    "    for value in kwargs.items():\n",
    "        match value:\n",
    "            case x as value if type(value) == int:\n",
    "                integer += 1\n",
    "            case x as value if type(value) == str:\n",
    "                string += 1\n",
    "            case x as value if type(value) == float:\n",
    "                floating += 1\n",
    "            case x as value if type(value) == bool:\n",
    "                boolean += 1\n",
    "            case _:\n",
    "                continue\n",
    "    print(f\"int: {integer}, str: {string} , float: {floating}, bool: {boolean}\")\n",
    "\n",
    "type_count(a=1,b='string',c=1.0,d=True,e=False)"
   ]
  },
  {
   "cell_type": "code",
   "execution_count": 263,
   "metadata": {},
   "outputs": [
    {
     "name": "stdout",
     "output_type": "stream",
     "text": [
      "['Les', 'gros', 'cochons', 'de', 'balaclava']\n"
     ]
    }
   ],
   "source": [
    "def splitter(arg, char):\n",
    "    string = \"\"\n",
    "    result = []\n",
    "    for item in arg:\n",
    "        if item == char:\n",
    "            if char != \" \":\n",
    "                string = string + item\n",
    "            result.append(string)\n",
    "            string = \"\"\n",
    "        else:\n",
    "            string = string + item\n",
    "    if char != item:\n",
    "        result.append(string)\n",
    "    print(result)\n",
    "\n",
    "splitter('Les gros cochons de balaclava', \" \")\n",
    "\n"
   ]
  },
  {
   "cell_type": "code",
   "execution_count": 237,
   "metadata": {},
   "outputs": [
    {
     "name": "stdout",
     "output_type": "stream",
     "text": [
      "Your password is : ********\n"
     ]
    }
   ],
   "source": [
    "password = input(\"Enter your password : \")\n",
    "print(f\"Your password is : {'*' * len(password)}\")"
   ]
  }
 ],
 "metadata": {
  "kernelspec": {
   "display_name": "Python 3",
   "language": "python",
   "name": "python3"
  },
  "language_info": {
   "codemirror_mode": {
    "name": "ipython",
    "version": 3
   },
   "file_extension": ".py",
   "mimetype": "text/x-python",
   "name": "python",
   "nbconvert_exporter": "python",
   "pygments_lexer": "ipython3",
   "version": "3.10.0"
  }
 },
 "nbformat": 4,
 "nbformat_minor": 2
}
