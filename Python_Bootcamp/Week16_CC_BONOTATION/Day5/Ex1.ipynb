{
 "cells": [
  {
   "cell_type": "code",
   "execution_count": 1,
   "metadata": {},
   "outputs": [
    {
     "name": "stdout",
     "output_type": "stream",
     "text": [
      "[ 2  4  6  8 10]\n"
     ]
    }
   ],
   "source": [
    "import numpy as np\n",
    "\n",
    "# Create a NumPy array\n",
    "array = np.array([1, 2, 3, 4, 5])\n",
    "\n",
    "# Perform an operation on the array\n",
    "double = array * 2\n",
    "\n",
    "print(double)  # Outputs: array([2, 4, 6, 8, 10])"
   ]
  },
  {
   "cell_type": "code",
   "execution_count": 2,
   "metadata": {},
   "outputs": [
    {
     "name": "stdout",
     "output_type": "stream",
     "text": [
      "[1 2 3]\n"
     ]
    }
   ],
   "source": [
    "# Creating an array in NumPy\n",
    "array = np.array([1, 2, 3])\n",
    "print(array)"
   ]
  },
  {
   "cell_type": "code",
   "execution_count": 3,
   "metadata": {},
   "outputs": [
    {
     "name": "stdout",
     "output_type": "stream",
     "text": [
      "1\n",
      "(5,)\n",
      "5\n",
      "int32\n"
     ]
    }
   ],
   "source": [
    "import numpy as np\n",
    "\n",
    "# Create a 1D NumPy array\n",
    "array_1d = np.array([1, 2, 3, 4, 5])\n",
    "\n",
    "# Check properties of the array\n",
    "print(array_1d.ndim)  # Output: 1\n",
    "print(array_1d.shape)  # Output: (5,)\n",
    "print(array_1d.size)  # Output: 5\n",
    "print(array_1d.dtype)  # Output: int64"
   ]
  },
  {
   "cell_type": "code",
   "execution_count": 4,
   "metadata": {},
   "outputs": [
    {
     "name": "stdout",
     "output_type": "stream",
     "text": [
      "[[1 2 3]\n",
      " [4 5 6]]\n",
      "[[0. 0.]\n",
      " [0. 0.]\n",
      " [0. 0.]]\n"
     ]
    }
   ],
   "source": [
    "# Create a 2D array from a list of lists\n",
    "array_2d = np.array([[1, 2, 3], [4, 5, 6]])\n",
    "print(array_2d)\n",
    "# Output: \n",
    "# [[1 2 3]\n",
    "#  [4 5 6]]\n",
    "\n",
    "# Create a 2D array of zeros with shape (3, 2)\n",
    "zeros = np.zeros((3, 2))\n",
    "print(zeros)\n",
    "# Output: \n",
    "# [[0. 0.]\n",
    "#  [0. 0.]\n",
    "#  [0. 0.]]"
   ]
  },
  {
   "cell_type": "code",
   "execution_count": 5,
   "metadata": {},
   "outputs": [
    {
     "name": "stdout",
     "output_type": "stream",
     "text": [
      "float64\n"
     ]
    }
   ],
   "source": [
    "# Create a float type array\n",
    "float_array = np.array([1.0, 2.0, 3.0])\n",
    "print(float_array.dtype)  # Output: float64"
   ]
  },
  {
   "cell_type": "code",
   "execution_count": 11,
   "metadata": {},
   "outputs": [
    {
     "name": "stdout",
     "output_type": "stream",
     "text": [
      "[[0. 0. 0. 0. 0.]\n",
      " [0. 0. 0. 0. 0.]\n",
      " [0. 0. 0. 0. 0.]\n",
      " [0. 0. 0. 0. 0.]\n",
      " [0. 0. 0. 0. 0.]]\n",
      "[[1. 1. 1. 1. 1.]\n",
      " [1. 1. 1. 1. 1.]\n",
      " [1. 1. 1. 1. 1.]\n",
      " [1. 1. 1. 1. 1.]\n",
      " [1. 1. 1. 1. 1.]]\n"
     ]
    }
   ],
   "source": [
    "initialised_array = np.zeros((5,5))\n",
    "print(initialised_array)\n",
    "\n",
    "initialised_array1 = np.ones((5,5))\n",
    "print(initialised_array1)"
   ]
  },
  {
   "cell_type": "code",
   "execution_count": 14,
   "metadata": {},
   "outputs": [
    {
     "name": "stdout",
     "output_type": "stream",
     "text": [
      "[[50 40 30]\n",
      " [ 2  3  5]\n",
      " [77 55 33]]\n",
      "[[ 3  5]\n",
      " [55 33]]\n"
     ]
    }
   ],
   "source": [
    "data_2d = np.array([[50,40,30],[2,3,5],[77,55,33]])\n",
    "print(data_2d)\n",
    "sliced_array=data_2d[1:,1:]\n",
    "print(sliced_array)"
   ]
  },
  {
   "cell_type": "code",
   "execution_count": 15,
   "metadata": {},
   "outputs": [
    {
     "name": "stdout",
     "output_type": "stream",
     "text": [
      "[6 5 4 3 2 1]\n"
     ]
    }
   ],
   "source": [
    "marks=np.array([1,2,3,4,5,6])\n",
    "reversed= marks[::-1]\n",
    "print(reversed)"
   ]
  },
  {
   "cell_type": "code",
   "execution_count": 17,
   "metadata": {},
   "outputs": [
    {
     "name": "stdout",
     "output_type": "stream",
     "text": [
      "[0 1 2 3 4 5 6 7 8 9]\n",
      "[10 11 12 13 14 15 16 17 18 19 20]\n",
      "[ 0  2  4  6  8 10]\n"
     ]
    }
   ],
   "source": [
    "ids=np.arange(10)\n",
    "print(ids)\n",
    "\n",
    "ids=np.arange(10,21)\n",
    "print(ids)\n",
    "\n",
    "ids=np.arange(0,11,2)\n",
    "print(ids)\n"
   ]
  },
  {
   "cell_type": "code",
   "execution_count": 19,
   "metadata": {},
   "outputs": [
    {
     "name": "stdout",
     "output_type": "stream",
     "text": [
      "[ 0.  5. 10. 15. 20. 25. 30. 35. 40.]\n"
     ]
    }
   ],
   "source": [
    "loto=np.linspace(0,40,9)\n",
    "print(loto)"
   ]
  },
  {
   "cell_type": "code",
   "execution_count": 34,
   "metadata": {},
   "outputs": [
    {
     "name": "stdout",
     "output_type": "stream",
     "text": [
      "[[[0.65230104 0.28500029 0.35638563 0.96468212 0.28421815]\n",
      "  [0.65544412 0.69200395 0.95268398 0.13626056 0.73273944]\n",
      "  [0.75811763 0.57365556 0.70780033 0.26074903 0.099096  ]\n",
      "  [0.37154036 0.37478431 0.28620108 0.96338051 0.79090846]\n",
      "  [0.19427077 0.3150091  0.19560718 0.80943548 0.03920405]\n",
      "  [0.4097075  0.72776191 0.55201643 0.88018205 0.19931061]\n",
      "  [0.79898624 0.49503665 0.64464815 0.50457936 0.69345999]\n",
      "  [0.88430325 0.78398106 0.94030916 0.72733944 0.8670873 ]\n",
      "  [0.96576269 0.21509182 0.60257833 0.3642533  0.31268737]\n",
      "  [0.99456946 0.73891081 0.84751366 0.02484233 0.58292344]]]\n"
     ]
    }
   ],
   "source": [
    "random=np.random.rand(1,10,5)\n",
    "print(random)"
   ]
  },
  {
   "cell_type": "code",
   "execution_count": 37,
   "metadata": {},
   "outputs": [
    {
     "name": "stdout",
     "output_type": "stream",
     "text": [
      "[[0. 0. 0.]\n",
      " [0. 0. 0.]]\n",
      "[[0. 0.]\n",
      " [0. 0.]\n",
      " [0. 0.]]\n",
      "[[0. 0. 0. 0. 0. 0.]]\n"
     ]
    }
   ],
   "source": [
    "x=np.zeros((2,3))\n",
    "print(x)\n",
    "\n",
    "reshape=np.reshape(x,(3,2))\n",
    "print(reshape)\n",
    "reshape=np.reshape(x,(1,6))\n",
    "print(reshape)"
   ]
  },
  {
   "cell_type": "code",
   "execution_count": 38,
   "metadata": {},
   "outputs": [
    {
     "name": "stdout",
     "output_type": "stream",
     "text": [
      "[1 0 2 0 0 1 1]\n"
     ]
    }
   ],
   "source": [
    "# Define an array\n",
    "array = np.array([0, 2, 2, 6, 5])\n",
    "\n",
    "# Use bincount\n",
    "count = np.bincount(array)\n",
    "print(count)\n",
    "# Output: [1 0 2 0 0 1 1]"
   ]
  }
 ],
 "metadata": {
  "kernelspec": {
   "display_name": "Python 3",
   "language": "python",
   "name": "python3"
  },
  "language_info": {
   "codemirror_mode": {
    "name": "ipython",
    "version": 3
   },
   "file_extension": ".py",
   "mimetype": "text/x-python",
   "name": "python",
   "nbconvert_exporter": "python",
   "pygments_lexer": "ipython3",
   "version": "3.10.0"
  }
 },
 "nbformat": 4,
 "nbformat_minor": 2
}
