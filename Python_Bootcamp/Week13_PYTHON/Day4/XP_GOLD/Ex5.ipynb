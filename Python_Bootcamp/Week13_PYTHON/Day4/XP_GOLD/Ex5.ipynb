{
 "cells": [
  {
   "cell_type": "code",
   "execution_count": 10,
   "metadata": {},
   "outputs": [
    {
     "name": "stdout",
     "output_type": "stream",
     "text": [
      "The Age as per date entered is : 56\n"
     ]
    }
   ],
   "source": [
    "import datetime # Date is today and not April 1947\n",
    "\n",
    "thisyear = datetime.date.today().year\n",
    "\n",
    "def get_age(year, month, day):\n",
    "    print(f\"The Age as per date entered is : {thisyear - year}\")\n",
    "\n",
    "get_age(1968, 10, 22)"
   ]
  },
  {
   "cell_type": "code",
   "execution_count": 23,
   "metadata": {},
   "outputs": [
    {
     "data": {
      "text/plain": [
       "True"
      ]
     },
     "execution_count": 23,
     "metadata": {},
     "output_type": "execute_result"
    }
   ],
   "source": [
    "import datetime # Date is today and not April 1947\n",
    "\n",
    "thisyear = datetime.date.today().year\n",
    "thismonth = datetime.date.today().month\n",
    "thisday = datetime.date.today().day\n",
    "bday = []\n",
    "age = 0\n",
    "\n",
    "def get_age(year, month, day):\n",
    "    global age\n",
    "    age = thisyear - year\n",
    "\n",
    "def can_retire(gender, date_of_birth):\n",
    "    global age\n",
    "    bday = date_of_birth.split('/')\n",
    "    get_age(int(bday[0]),int(bday[1]),int(bday[2]))\n",
    "    if gender == 'Male':\n",
    "        if age > 67:\n",
    "            return True\n",
    "        else:\n",
    "            return False\n",
    "    if gender == 'Female':\n",
    "        if age > 62:\n",
    "            return True\n",
    "        else:\n",
    "            return False\n",
    "\n",
    "can_retire('Male', '1948/10/22')\n",
    "\n"
   ]
  },
  {
   "cell_type": "code",
   "execution_count": 29,
   "metadata": {},
   "outputs": [
    {
     "name": "stdout",
     "output_type": "stream",
     "text": [
      "My dear you can retire\n"
     ]
    }
   ],
   "source": [
    "import datetime # Date is today and not April 1947\n",
    "\n",
    "thisyear = datetime.date.today().year\n",
    "thismonth = datetime.date.today().month\n",
    "thisday = datetime.date.today().day\n",
    "bday = []\n",
    "age = 0\n",
    "\n",
    "def get_age(year, month, day):\n",
    "    global age\n",
    "    age = thisyear - year\n",
    "\n",
    "def can_retire(gender, date_of_birth):\n",
    "    global age\n",
    "    bday = date_of_birth.split('/')\n",
    "    get_age(int(bday[0]),int(bday[1]),int(bday[2]))\n",
    "    if gender == 'Male':\n",
    "        if age > 67:\n",
    "            print(\"My dear you can retire\")\n",
    "        else:\n",
    "            print(\"Unfortunately, you have not reached the time for retirement\")\n",
    "    if gender == 'Female':\n",
    "        if age > 62:\n",
    "            print(\"My dear you can retire\")\n",
    "        else:\n",
    "            print(\"Unfortunately, you have not reached the time for retirement\")\n",
    "\n",
    "mygender = input(\"Enter your gender : \")\n",
    "mydate = input(\"Enter your date of birth in format yyyy/mm/dd : \")\n",
    "can_retire(mygender, mydate)\n"
   ]
  }
 ],
 "metadata": {
  "kernelspec": {
   "display_name": "Python 3",
   "language": "python",
   "name": "python3"
  },
  "language_info": {
   "codemirror_mode": {
    "name": "ipython",
    "version": 3
   },
   "file_extension": ".py",
   "mimetype": "text/x-python",
   "name": "python",
   "nbconvert_exporter": "python",
   "pygments_lexer": "ipython3",
   "version": "3.10.0"
  }
 },
 "nbformat": 4,
 "nbformat_minor": 2
}
