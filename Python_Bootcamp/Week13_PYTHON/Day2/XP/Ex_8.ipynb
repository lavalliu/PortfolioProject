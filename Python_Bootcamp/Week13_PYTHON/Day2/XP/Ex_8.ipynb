{
 "cells": [
  {
   "cell_type": "code",
   "execution_count": 1,
   "metadata": {},
   "outputs": [
    {
     "name": "stdout",
     "output_type": "stream",
     "text": [
      "['Banana', 'Apples', 'Oranges', 'Blueberries']\n",
      "['Apples', 'Oranges', 'Blueberries']\n",
      "['Apples', 'Oranges']\n",
      "['Apples', 'Oranges', 'Kiwi']\n",
      "['Apples', 'Apples', 'Oranges', 'Kiwi']\n",
      "2\n",
      "[]\n"
     ]
    }
   ],
   "source": [
    "basket = [\"Banana\", \"Apples\", \"Oranges\", \"Blueberries\"]\n",
    "print(basket)\n",
    "basket.remove(\"Banana\")\n",
    "print(basket)\n",
    "basket.remove(\"Blueberries\")\n",
    "print(basket)\n",
    "basket.append(\"Kiwi\")\n",
    "print(basket)\n",
    "basket.insert(0,\"Apples\")\n",
    "print(basket)\n",
    "print(basket.count(\"Apples\"))\n",
    "basket.clear()\n",
    "print(basket)"
   ]
  }
 ],
 "metadata": {
  "kernelspec": {
   "display_name": "Python 3",
   "language": "python",
   "name": "python3"
  },
  "language_info": {
   "codemirror_mode": {
    "name": "ipython",
    "version": 3
   },
   "file_extension": ".py",
   "mimetype": "text/x-python",
   "name": "python",
   "nbconvert_exporter": "python",
   "pygments_lexer": "ipython3",
   "version": "3.10.0"
  }
 },
 "nbformat": 4,
 "nbformat_minor": 2
}
