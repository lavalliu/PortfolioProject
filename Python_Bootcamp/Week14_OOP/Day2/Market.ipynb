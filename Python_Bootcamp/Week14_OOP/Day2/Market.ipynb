{
 "cells": [
  {
   "cell_type": "code",
   "execution_count": 11,
   "metadata": {},
   "outputs": [
    {
     "name": "stdout",
     "output_type": "stream",
     "text": [
      "McDonald's farm\n",
      "cow : 5\n",
      "sheep : 1\n",
      "sheep : 1\n",
      "goat : 12\n",
      "E-I-E-I-0!\n",
      "None\n"
     ]
    }
   ],
   "source": [
    "class Farm:\n",
    "    def __init__(self, name):\n",
    "        self.name = name\n",
    "        self.animals={}\n",
    "        print(f\"{self.name}'s farm\")\n",
    "\n",
    "    def add_animal(self, animal, qty):\n",
    "        if animal in self.animals:\n",
    "            self.animals[animal] += qty\n",
    "        else:\n",
    "            self.animals[animal] += qty\n",
    "            \n",
    "        self.animal\n",
    "        print(f\"{animal} : {qty}\")\n",
    "\n",
    "    def get_info(self):\n",
    "        print(\"E-I-E-I-0!\")\n",
    "\n",
    "macdonald = Farm(\"McDonald\")\n",
    "macdonald.add_animal('cow',5)\n",
    "macdonald.add_animal('sheep',1)\n",
    "macdonald.add_animal('sheep',1)\n",
    "macdonald.add_animal('goat', 12)\n",
    "print(macdonald.get_info())\n",
    "\n"
   ]
  }
 ],
 "metadata": {
  "kernelspec": {
   "display_name": "Python 3",
   "language": "python",
   "name": "python3"
  },
  "language_info": {
   "codemirror_mode": {
    "name": "ipython",
    "version": 3
   },
   "file_extension": ".py",
   "mimetype": "text/x-python",
   "name": "python",
   "nbconvert_exporter": "python",
   "pygments_lexer": "ipython3",
   "version": "3.10.0"
  }
 },
 "nbformat": 4,
 "nbformat_minor": 2
}
