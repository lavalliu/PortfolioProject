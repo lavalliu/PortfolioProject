{
 "cells": [
  {
   "cell_type": "code",
   "execution_count": 1,
   "metadata": {},
   "outputs": [
    {
     "name": "stdout",
     "output_type": "stream",
     "text": [
      "[1]\n",
      "[1, 1.5]\n",
      "[1, 1.5, 2]\n",
      "[1, 1.5, 2, 2.5]\n",
      "[1, 1.5, 2, 2.5, 3]\n",
      "[1, 1.5, 2, 2.5, 3, 3.5]\n",
      "[1, 1.5, 2, 2.5, 3, 3.5, 4]\n",
      "[1, 1.5, 2, 2.5, 3, 3.5, 4, 4.5]\n",
      "[1, 1.5, 2, 2.5, 3, 3.5, 4, 4.5, 5]\n"
     ]
    }
   ],
   "source": [
    "i = 1\n",
    "j = 1\n",
    "list = []\n",
    "while i <= 5:\n",
    "    if (j %2 != 0):\n",
    "        list.append(int(i))\n",
    "    else:\n",
    "        list.append(i)\n",
    "    i += 0.5\n",
    "    j += 1\n",
    "    print(list)"
   ]
  }
 ],
 "metadata": {
  "kernelspec": {
   "display_name": "Python 3",
   "language": "python",
   "name": "python3"
  },
  "language_info": {
   "codemirror_mode": {
    "name": "ipython",
    "version": 3
   },
   "file_extension": ".py",
   "mimetype": "text/x-python",
   "name": "python",
   "nbconvert_exporter": "python",
   "pygments_lexer": "ipython3",
   "version": "3.10.0"
  }
 },
 "nbformat": 4,
 "nbformat_minor": 2
}
