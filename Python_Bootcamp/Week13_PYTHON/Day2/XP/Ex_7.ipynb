{
 "cells": [
  {
   "cell_type": "code",
   "execution_count": 1,
   "metadata": {},
   "outputs": [
    {
     "name": "stdout",
     "output_type": "stream",
     "text": [
      "[2, 8, 12, 22, 24, 26, 9, 23]\n",
      "[2, 8, 12, 22, 24, 26, 9]\n",
      "[2, 8, 12, 22, 24, 26, 9, 5, 7, 32, 17, 35]\n"
     ]
    }
   ],
   "source": [
    "my_fav_number = [2,8,12,22,24,26]\n",
    "my_fav_number.extend([9,23])\n",
    "print(my_fav_number)\n",
    "my_fav_number.pop(-1)\n",
    "print(my_fav_number)\n",
    "friend_fav_numbers = [5,7,32,17,35]\n",
    "our_fav_numbers = my_fav_number + friend_fav_numbers\n",
    "print(our_fav_numbers)"
   ]
  }
 ],
 "metadata": {
  "kernelspec": {
   "display_name": "Python 3",
   "language": "python",
   "name": "python3"
  },
  "language_info": {
   "codemirror_mode": {
    "name": "ipython",
    "version": 3
   },
   "file_extension": ".py",
   "mimetype": "text/x-python",
   "name": "python",
   "nbconvert_exporter": "python",
   "pygments_lexer": "ipython3",
   "version": "3.10.0"
  }
 },
 "nbformat": 4,
 "nbformat_minor": 2
}
