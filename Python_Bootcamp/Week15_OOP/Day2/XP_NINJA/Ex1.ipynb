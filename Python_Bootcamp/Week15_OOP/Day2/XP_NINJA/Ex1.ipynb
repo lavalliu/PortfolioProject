{
 "cells": [
  {
   "cell_type": "code",
   "execution_count": null,
   "metadata": {},
   "outputs": [],
   "source": [
    "class Temperature:\n",
    "    def __init__(self)\n",
    "        pass\n",
    "\n",
    "class Celsius:\n",
    "\n",
    "class Kelvin:\n",
    "\n",
    "class Fahrenheit:"
   ]
  }
 ],
 "metadata": {
  "language_info": {
   "name": "python"
  }
 },
 "nbformat": 4,
 "nbformat_minor": 2
}
