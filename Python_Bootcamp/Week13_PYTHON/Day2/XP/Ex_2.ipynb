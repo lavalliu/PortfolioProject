{
 "cells": [
  {
   "cell_type": "code",
   "execution_count": 1,
   "metadata": {},
   "outputs": [
    {
     "name": "stdout",
     "output_type": "stream",
     "text": [
      "I am Laval aged 35 and I like feeding and looking at my fish in a clear water pond with my feet of 44 in the water :)\n"
     ]
    }
   ],
   "source": [
    "name = \"Laval\"\n",
    "age = 35\n",
    "shoe_size = 44\n",
    "info = f\"I am {name} aged {age} and I like feeding and looking at my fish in a clear water pond with my feet of {shoe_size} in the water :)\"\n",
    "print(info)"
   ]
  }
 ],
 "metadata": {
  "kernelspec": {
   "display_name": "Python 3",
   "language": "python",
   "name": "python3"
  },
  "language_info": {
   "codemirror_mode": {
    "name": "ipython",
    "version": 3
   },
   "file_extension": ".py",
   "mimetype": "text/x-python",
   "name": "python",
   "nbconvert_exporter": "python",
   "pygments_lexer": "ipython3",
   "version": "3.10.0"
  }
 },
 "nbformat": 4,
 "nbformat_minor": 2
}
