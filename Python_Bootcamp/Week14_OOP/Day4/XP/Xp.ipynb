{
 "cells": [
  {
   "cell_type": "code",
   "execution_count": 1,
   "metadata": {},
   "outputs": [
    {
     "name": "stdout",
     "output_type": "stream",
     "text": [
      "mimi1 is just walking around\n",
      "mimi2 is just walking around\n",
      "mimi3 is just walking around\n"
     ]
    }
   ],
   "source": [
    "class Pets():\n",
    "    def __init__(self, animals):\n",
    "        self.animals = animals\n",
    "\n",
    "    def walk(self):\n",
    "        for animal in self.animals:\n",
    "            print(animal.walk())\n",
    "\n",
    "class Cat():\n",
    "    is_lazy = True\n",
    "\n",
    "    def __init__(self, name, age):\n",
    "        self.name = name\n",
    "        self.age = age\n",
    "\n",
    "    def walk(self):\n",
    "        return f'{self.name} is just walking around'\n",
    "\n",
    "class Bengal(Cat):\n",
    "    def sing(self, sounds):\n",
    "        return f'{sounds}'\n",
    "\n",
    "class Chartreux(Cat):\n",
    "    def sing(self, sounds):\n",
    "        return f'{sounds}'\n",
    "    \n",
    "class Siamese(Cat):\n",
    "    def sing(self, sounds):\n",
    "        return f'{sounds}'\n",
    "\n",
    "all_cats = [Bengal(\"mimi1\", 3), Chartreux(\"mimi2\", 5), Siamese(\"mimi3\", 2)]\n",
    "sara_pets = Pets(all_cats)\n",
    "sara_pets.walk()"
   ]
  },
  {
   "cell_type": "code",
   "execution_count": 11,
   "metadata": {},
   "outputs": [
    {
     "name": "stdout",
     "output_type": "stream",
     "text": [
      "Magico is barking\n",
      "Pouf is barking\n",
      "Pata is barking\n",
      "Magico speed is 0.5\n",
      "Pouf speed is 0.45714285714285713\n",
      "Pata speed is 0.2857142857142857\n",
      "Pouf won over Magico\n",
      "Pata won over Magico\n",
      "Pouf won over Pata\n"
     ]
    }
   ],
   "source": [
    "class Dog():\n",
    "    def __init__(self, name, age, weight):\n",
    "        self.name = name\n",
    "        self.age = age\n",
    "        self.weight = weight\n",
    "\n",
    "    def bark(self):\n",
    "        return f\"{self.name} is barking\"\n",
    "    \n",
    "    def run_speed(self):\n",
    "        return f\"{self.name} speed is {self.weight/(self.age*10)}\"\n",
    "        \n",
    "    def fight(self, otherdog):\n",
    "        if (self.run_speed() * self.weight) == (otherdog.run_speed() * otherdog.weight):\n",
    "            return \"It's a draw\"\n",
    "        elif (self.run_speed() * self.weight) > (otherdog.run_speed() * otherdog.weight):\n",
    "            return f\"{self.name} won over {otherdog.name}\"\n",
    "        elif (self.run_speed() * self.weight) < (otherdog.run_speed() * otherdog.weight):\n",
    "            return f\"{otherdog.name} won over {self.name}\"\n",
    "        \n",
    "\n",
    "dog1 = Dog(\"Magico\", 5, 25) \n",
    "dog2 = Dog(\"Pouf\", 7, 32)\n",
    "dog3 = Dog(\"Pata\", 7, 20)\n",
    "\n",
    "print(dog1.bark())\n",
    "print(dog2.bark())\n",
    "print(dog3.bark())\n",
    "\n",
    "print(dog1.run_speed())\n",
    "print(dog2.run_speed())\n",
    "print(dog3.run_speed())\n",
    "\n",
    "print(dog1.fight(dog2))\n",
    "print(dog1.fight(dog3))\n",
    "print(dog2.fight(dog3))\n"
   ]
  },
  {
   "cell_type": "code",
   "execution_count": null,
   "metadata": {},
   "outputs": [],
   "source": [
    "class Dog():\n",
    "    def __init__(self, name, age, weight):\n",
    "        self.name = name\n",
    "        self.age = age\n",
    "        self.weight = weight\n",
    "\n",
    "    def bark(self):\n",
    "        return f\"{self.name} is barking\"\n",
    "    \n",
    "    def run_speed(self):\n",
    "        return f\"{self.name} speed is {self.weight/(self.age*10)}\"\n",
    "        \n",
    "    def fight(self, otherdog):\n",
    "        if (self.run_speed() * self.weight) == (otherdog.run_speed() * otherdog.weight):\n",
    "            return \"It's a draw\"\n",
    "        elif (self.run_speed() * self.weight) > (otherdog.run_speed() * otherdog.weight):\n",
    "            return f\"{self.name} won over {otherdog.name}\"\n",
    "        elif (self.run_speed() * self.weight) < (otherdog.run_speed() * otherdog.weight):\n",
    "            return f\"{otherdog.name} won over {self.name}\"\n",
    "    \n",
    "    def PetDog(self):\n",
    "        "
   ]
  }
 ],
 "metadata": {
  "kernelspec": {
   "display_name": "Python 3",
   "language": "python",
   "name": "python3"
  },
  "language_info": {
   "codemirror_mode": {
    "name": "ipython",
    "version": 3
   },
   "file_extension": ".py",
   "mimetype": "text/x-python",
   "name": "python",
   "nbconvert_exporter": "python",
   "pygments_lexer": "ipython3",
   "version": "3.10.0"
  }
 },
 "nbformat": 4,
 "nbformat_minor": 2
}
