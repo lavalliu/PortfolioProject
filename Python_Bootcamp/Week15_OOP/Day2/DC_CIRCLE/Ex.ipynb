{
 "cells": [
  {
   "cell_type": "code",
   "execution_count": 1,
   "metadata": {},
   "outputs": [
    {
     "name": "stdout",
     "output_type": "stream",
     "text": [
      "Diameter: 10 Radius: 5 Area: 78.5\n",
      "Diameter: 30 Radius: 15 Area: 706.5\n",
      "Equal\n",
      "5,5,10,15,15,20\n"
     ]
    }
   ],
   "source": [
    "class Circle:\n",
    "    def __init__(self,radius=0,diameter=0):\n",
    "        if (radius!=0):\n",
    "            self.radius=radius\n",
    "            self.diameter=2*self.radius\n",
    "        else:\n",
    "            self.diameter=diameter\n",
    "            self.radius=diameter/2\n",
    "    @property\n",
    "    def area(self):\n",
    "        return 3.14*self.radius*self.radius\n",
    "    def __str__(self):\n",
    "        return (f'Diameter: {self.diameter} Radius: {self.radius} Area: {self.area}')\n",
    "    def __add__(self,other):\n",
    "        new_radius=self.radius+other.radius\n",
    "        return Circle(radius=new_radius)\n",
    "    def __eq__(self,other):\n",
    "        if self.radius==other.radius:\n",
    "            return True\n",
    "        else:\n",
    "            return False\n",
    "    def __gt__(self,other):\n",
    "        if self.radius>other.radius:\n",
    "            return True\n",
    "        else:\n",
    "            return False\n",
    "    def sort(self,*others):\n",
    "        self.circles=list(others)\n",
    "        self.circles.append(self)\n",
    "        self.sorted_circles=sorted(self.circles,key=lambda circle:circle.radius)\n",
    "        return self.sorted_circles\n",
    "c1=Circle(radius=5)\n",
    "print(c1)\n",
    "c2=Circle(radius=10)\n",
    "c3=Circle(radius=15)\n",
    "c4=c1+c2\n",
    "print(c4)\n",
    "c5=Circle(radius=5)\n",
    "if c1==c5:\n",
    "    print('Equal')\n",
    "else:\n",
    "    print('Not Equal')\n",
    "if c1>c5:\n",
    "    print('Greater')\n",
    "c6=Circle(radius=20)\n",
    "sorted_circles=c6.sort(c2,c5,c4,c1,c3)\n",
    "print(\",\".join(str(circle.radius) for circle in sorted_circles))\n"
   ]
  }
 ],
 "metadata": {
  "kernelspec": {
   "display_name": "Python 3",
   "language": "python",
   "name": "python3"
  },
  "language_info": {
   "codemirror_mode": {
    "name": "ipython",
    "version": 3
   },
   "file_extension": ".py",
   "mimetype": "text/x-python",
   "name": "python",
   "nbconvert_exporter": "python",
   "pygments_lexer": "ipython3",
   "version": "3.10.0"
  }
 },
 "nbformat": 4,
 "nbformat_minor": 2
}
