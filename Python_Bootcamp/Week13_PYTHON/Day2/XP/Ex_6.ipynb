{
 "cells": [
  {
   "cell_type": "code",
   "execution_count": 1,
   "metadata": {},
   "outputs": [
    {
     "name": "stdout",
     "output_type": "stream",
     "text": [
      "This sentence has break the previous record and has 42 characters\n",
      "This sentence has break the previous record and has 79 characters\n",
      "Character 'A' or 'a' is present in the sentence, please retry\n",
      "The previous record of 79 characters still stands. Please retry\n",
      "The previous record of 79 characters still stands. Please retry\n",
      "The previous record of 79 characters still stands. Please retry\n",
      "The previous record of 79 characters still stands. Please retry\n",
      "The previous record of 79 characters still stands. Please retry\n",
      "The previous record of 79 characters still stands. Please retry\n",
      "The previous record of 79 characters still stands. Please retry\n",
      "The previous record of 79 characters still stands. Please retry\n"
     ]
    }
   ],
   "source": [
    "longest_length = 0\n",
    "while True:\n",
    "    my_sentence = input(\"Enter a sentence - the longest you can without the character A : \")\n",
    "    caps = my_sentence.upper()\n",
    "    index = caps.find('A')\n",
    "    my_length = (len(my_sentence))\n",
    "    if (caps == 'A'):\n",
    "        break\n",
    "    if index != -1:\n",
    "        print(\"Character 'A' or 'a' is present in the sentence, please retry\")\n",
    "    elif longest_length < my_length:\n",
    "        longest_length = my_length\n",
    "        print(f\"This sentence has break the previous record and has {longest_length} characters\")\n",
    "    else:\n",
    "        print(f\"The previous record of {longest_length} characters still stands. Please retry\")\n",
    "    \n"
   ]
  }
 ],
 "metadata": {
  "kernelspec": {
   "display_name": "Python 3",
   "language": "python",
   "name": "python3"
  },
  "language_info": {
   "codemirror_mode": {
    "name": "ipython",
    "version": 3
   },
   "file_extension": ".py",
   "mimetype": "text/x-python",
   "name": "python",
   "nbconvert_exporter": "python",
   "pygments_lexer": "ipython3",
   "version": "3.10.0"
  }
 },
 "nbformat": 4,
 "nbformat_minor": 2
}
