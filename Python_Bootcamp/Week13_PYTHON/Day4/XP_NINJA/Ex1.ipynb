{
 "cells": [
  {
   "cell_type": "code",
   "execution_count": 18,
   "metadata": {},
   "outputs": [
    {
     "name": "stdout",
     "output_type": "stream",
     "text": [
      "['Volkswagen', ' Toyota', ' Ford Motor', ' Honda', ' Chevrolet']\n",
      "There are 5 manufacturers in the list\n",
      "Reverse list  Z-A : ['Volkswagen', ' Toyota', ' Honda', ' Ford Motor', ' Chevrolet']\n",
      "There are 5 manufacturer(s) with the letter o in them\n",
      "There are 5 manufacturer(s) without the letter i in them\n"
     ]
    }
   ],
   "source": [
    "code = \"Volkswagen, Toyota, Ford Motor, Honda, Chevrolet\"\n",
    "\n",
    "list = []\n",
    "\n",
    "list = code.split(\",\")\n",
    "print(list)\n",
    "\n",
    "print(f\"There are {len(list)} manufacturers in the list\")\n",
    "list.sort(reverse=True)\n",
    "\n",
    "print(f\"Reverse list  Z-A : {list}\")\n",
    "\n",
    "letter = 'o'\n",
    "letter2 = 'i'\n",
    "count = count2 = 0\n",
    "for word in list:\n",
    "    if word.lower().find(letter) != -1:\n",
    "        count += 1\n",
    "    if word.lower().find(letter2) == -1:\n",
    "        count2 += 1\n",
    "\n",
    "print(f\"There are {count} manufacturer(s) with the letter {letter} in them\")\n",
    "print(f\"There are {count2} manufacturer(s) without the letter {letter2} in them\")"
   ]
  },
  {
   "cell_type": "code",
   "execution_count": 77,
   "metadata": {},
   "outputs": [
    {
     "name": "stdout",
     "output_type": "stream",
     "text": [
      "List with duplicates removed : {'Volkswagen', 'Ford Motor', 'Toyota', 'Chevrolet', 'Honda'}\n",
      "String without the duplicates entries : Volkswagen, Ford Motor, Chevrolet and it now contains only 3 brands\n",
      "['Volkswagen', 'Ford Motor', 'Chevrolet']\n",
      "['negawskloV', 'rotoM droF', 'telorvehC']\n"
     ]
    }
   ],
   "source": [
    "code = [\"Honda\",\"Volkswagen\", \"Toyota\", \"Ford Motor\", \"Honda\", \"Chevrolet\", \"Toyota\"]\n",
    "\n",
    "code1 = set(code)\n",
    "print(f\"List with duplicates removed : {code1}\")\n",
    "nodup = code2 = []\n",
    "\n",
    "for brand in code:\n",
    "    if code.count(brand) < 2:\n",
    "        nodup.append(brand)\n",
    "    \n",
    "print(f\"String without the duplicates entries : {', '.join(nodup)} and it now contains only {len(nodup)} brands\") \n",
    "\n",
    "nodup.sort(reverse=True)\n",
    "print(nodup)\n",
    "reverse = []\n",
    "\n",
    "for brand in nodup:\n",
    "    rev = \"\"\n",
    "    i = len(brand)\n",
    "    while i > 0:\n",
    "        rev = rev + rev.join(brand[i-1])\n",
    "        i -= 1\n",
    "    reverse.append(rev)\n",
    "\n",
    "print(reverse)"
   ]
  },
  {
   "cell_type": "code",
   "execution_count": 18,
   "metadata": {},
   "outputs": [
    {
     "name": "stdout",
     "output_type": "stream",
     "text": [
      "Bruce Lee\n"
     ]
    }
   ],
   "source": [
    "def get_full_name(first_name, last_name, middle_name=\"\"):\n",
    "    if middle_name == \"\":\n",
    "        print(first_name, last_name)\n",
    "    else:\n",
    "        print(first_name, middle_name, last_name)\n",
    "\n",
    "get_full_name(first_name ='Bruce', last_name = 'Lee')\n"
   ]
  },
  {
   "cell_type": "code",
   "execution_count": 22,
   "metadata": {},
   "outputs": [
    {
     "name": "stdout",
     "output_type": "stream",
     "text": [
      "Initial sentence is : SOS Titanic here hit iceberg we are sinking need urgent help\n",
      "This is the result in morse : ··· --- ··· / - ·· - ·− −· ·· −·−· / ···· · ·−· · / ···· ·· - / ·· −·−· · −··· · ·−· −−· / ·−− · / ·− ·−· · / ··· ·· −· −·− ·· −· −−· / −· · · −·· / ··− ·−· −−· · −· - / ···· · ·−·· ·−−· \n",
      "Result of reversing the morse into english :  SOS TITANIC HERE HIT ICEBERG WE ARE SINKING NEED URGENT HELP\n"
     ]
    }
   ],
   "source": [
    "original = \"SOS Titanic here hit iceberg we are sinking need urgent help\"\n",
    "sentence = original.upper()\n",
    "print(f\"Original sentence is : {original}\")\n",
    "\n",
    "morsecode ={\n",
    "    \"A\" : \"·−\",\n",
    "    \"B\" : \"−···\",\n",
    "    \"C\" : \"−·−·\",\n",
    "    \"D\" : \"−··\",\n",
    "    \"E\" : \"·\",\n",
    "    \"F\" : \"··−·\",\n",
    "    \"G\" : \"−−·\",\n",
    "    \"H\" : \"····\",\n",
    "    \"I\" : \"··\",\n",
    "    \"J\" : \"·−−−\",\n",
    "    \"K\" : \"−·−\",\n",
    "    \"L\" : \"·−··\",\n",
    "    \"M\" : \"--\",\n",
    "    \"N\" : \"−·\",\n",
    "    \"O\" : \"---\",\n",
    "    \"P\" : \"·−−·\",\n",
    "    \"Q\" : \"−−·−\",\n",
    "    \"R\" : \"·−·\",\n",
    "    \"S\" : \"···\",\n",
    "    \"T\" : \"-\",\n",
    "    \"U\" : \"··−\",\n",
    "    \"V\" : \"···−\",\n",
    "    \"W\" : \"·−−\",\n",
    "    \"X\" : \"−··−\",\n",
    "    \"Y\" : \"−·−−\",\n",
    "    \"Z\" : \"−−··\",\n",
    "    \"0\" : \"-----\",\n",
    "    \"1\" : \"·−−−−\",\n",
    "    \"2\" : \"··−−−\",\n",
    "    \"3\" : \"···−−\",\n",
    "    \"4\" : \"····−\",\n",
    "    \"5\" : \"·····\",\n",
    "    \"6\" : \"−····\",\n",
    "    \"7\" : \"−−···\",\n",
    "    \"8\" : \"−−−··\",\n",
    "    \"9\" : \"−−−−·\",\n",
    "    \" \" : \"/\"\n",
    "    }\n",
    "\n",
    "global morse, morsechar\n",
    "morsechar = morse = \"\"\n",
    "\n",
    "def texttomorse():\n",
    "    global morse, morsechar\n",
    "    for word in sentence:\n",
    "        for char in word:\n",
    "            morsechar = morsecode.get(char)\n",
    "            morse = str(morse)+str(morsechar)+\" \"\n",
    "    print(f\"This is the result in morse : {morse}\" )\n",
    "\n",
    "def morsetotext():\n",
    "    key_list = list(morsecode.keys())\n",
    "    val_list = list(morsecode.values())\n",
    "    char = result = \"\"\n",
    "\n",
    "    for element in morse:\n",
    "        if element == \" \":\n",
    "            position1 = val_list.index(char)\n",
    "            # print(key_list[position1])\n",
    "            result = result + key_list[position1]\n",
    "            char = \"\"\n",
    "        else:\n",
    "            char = char + element\n",
    "        \n",
    "    print(\"Result of reversing the morse into english : \", result)  \n",
    "\n",
    "texttomorse()\n",
    "morsetotext()"
   ]
  },
  {
   "cell_type": "code",
   "execution_count": 37,
   "metadata": {},
   "outputs": [
    {
     "name": "stdout",
     "output_type": "stream",
     "text": [
      "**********\n",
      "* who    *\n",
      "* really *\n",
      "* you    *\n",
      "**********\n"
     ]
    }
   ],
   "source": [
    "sentence = input(\"Enter your sentence : \")\n",
    "array = sentence.split(\" \")\n",
    "longest = 0\n",
    "dict = {}\n",
    "\n",
    "for word in array:\n",
    "    if len(word) > longest:\n",
    "        longest = len(word)\n",
    "    dict[word] = len(word)\n",
    "\n",
    "print(\"*\" * (longest + 4))\n",
    "for key, value in dict.items():\n",
    "    if value == longest:\n",
    "        print(f\"* {key} *\")\n",
    "    else:\n",
    "        print(f\"* {key} {' ' * (longest-value-1)} *\")\n",
    "print(\"*\" * (longest + 4))"
   ]
  },
  {
   "cell_type": "code",
   "execution_count": null,
   "metadata": {},
   "outputs": [],
   "source": [
    "def insertion_sort(alist):\n",
    "   for index in range(1,len(alist)):\n",
    "\n",
    "     currentvalue = alist[index]\n",
    "     position = index\n",
    "\n",
    "     while position>0 and alist[position-1]>currentvalue:\n",
    "         alist[position]=alist[position-1]\n",
    "         position = position-1\n",
    "\n",
    "     alist[position]=currentvalue\n",
    "\n",
    "alist = [54,26,93,17,77,31,44,55,20]\n",
    "insertion_sort(alist)\n",
    "print(alist)\n",
    "\n",
    "# sorting the alist in ascending order"
   ]
  }
 ],
 "metadata": {
  "kernelspec": {
   "display_name": "Python 3",
   "language": "python",
   "name": "python3"
  },
  "language_info": {
   "codemirror_mode": {
    "name": "ipython",
    "version": 3
   },
   "file_extension": ".py",
   "mimetype": "text/x-python",
   "name": "python",
   "nbconvert_exporter": "python",
   "pygments_lexer": "ipython3",
   "version": "3.10.0"
  }
 },
 "nbformat": 4,
 "nbformat_minor": 2
}
