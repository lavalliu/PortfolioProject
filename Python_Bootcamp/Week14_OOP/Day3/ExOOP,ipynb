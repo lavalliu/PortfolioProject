class Door():
    def __init__(self, status):
        self.is_opened = status

class open_door(self):
    def __init__(self):
        pass

class close_door():
    def __init__(self):
        pass

class BlockedDoor(Door):
    def __init__(self, is_opened):
        pass