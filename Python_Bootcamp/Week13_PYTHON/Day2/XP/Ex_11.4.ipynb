{
 "cells": [
  {
   "cell_type": "code",
   "execution_count": 1,
   "metadata": {},
   "outputs": [
    {
     "name": "stdout",
     "output_type": "stream",
     "text": [
      "['Joey', 'Jessica', 'Shayne', 'Darryl']\n"
     ]
    }
   ],
   "source": [
    "i = 0\n",
    "ticket = 0\n",
    "total = 0\n",
    "teenagers = [\"Joey\",\"Laura\",\"Jessica\",\"Megan\",\"Shayne\",\"Darryl\",\"Damien\"]\n",
    "while i < len(teenagers):\n",
    "    age = int(input(f\"{teenagers[i]}, please enter your age : \"))\n",
    "    if (age < 16 or age > 21):\n",
    "         teenagers.remove(teenagers[i])\n",
    "    i += 1\n",
    "print(teenagers)\n",
    "        "
   ]
  }
 ],
 "metadata": {
  "kernelspec": {
   "display_name": "Python 3",
   "language": "python",
   "name": "python3"
  },
  "language_info": {
   "codemirror_mode": {
    "name": "ipython",
    "version": 3
   },
   "file_extension": ".py",
   "mimetype": "text/x-python",
   "name": "python",
   "nbconvert_exporter": "python",
   "pygments_lexer": "ipython3",
   "version": "3.10.0"
  }
 },
 "nbformat": 4,
 "nbformat_minor": 2
}
