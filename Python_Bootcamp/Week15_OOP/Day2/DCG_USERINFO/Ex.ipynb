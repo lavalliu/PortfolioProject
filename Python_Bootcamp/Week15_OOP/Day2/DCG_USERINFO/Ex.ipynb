{
 "cells": [
  {
   "cell_type": "code",
   "execution_count": 26,
   "metadata": {},
   "outputs": [
    {
     "name": "stdout",
     "output_type": "stream",
     "text": [
      "[('Joey', '23', '43'), ('Joey', '23', '44'), ('Joey', '32', '23'), ('Joey', '54', '34'), ('Joey', '65', '34')]\n"
     ]
    }
   ],
   "source": [
    "class Person:\n",
    "    def __init__(self, name, age, score):\n",
    "        self.name = name\n",
    "        self.age = age\n",
    "        self.score = score\n",
    "\n",
    "    def __repr__(self):\n",
    "        return f\"('{self.name}', '{self.age}', '{self.score}')\"\n",
    "\n",
    "create_person = lambda name, age, score: Person(name, age, score)\n",
    "people = []\n",
    "\n",
    "for _ in range(5):\n",
    "    name = input(\"Enter your name: \")\n",
    "    age = input(\"Enter your age: \")\n",
    "    score = input(\"Enter your score: \")\n",
    "    person = create_person(str(name), str(age), str(score))\n",
    "    people.append(person)\n",
    "\n",
    "people.sort(key=lambda person : person.score)\n",
    "people.sort(key=lambda person : person.age)\n",
    "people.sort(key=lambda person : person.name)\n",
    "print(people)"
   ]
  }
 ],
 "metadata": {
  "kernelspec": {
   "display_name": "Python 3",
   "language": "python",
   "name": "python3"
  },
  "language_info": {
   "codemirror_mode": {
    "name": "ipython",
    "version": 3
   },
   "file_extension": ".py",
   "mimetype": "text/x-python",
   "name": "python",
   "nbconvert_exporter": "python",
   "pygments_lexer": "ipython3",
   "version": "3.10.0"
  }
 },
 "nbformat": 4,
 "nbformat_minor": 2
}
