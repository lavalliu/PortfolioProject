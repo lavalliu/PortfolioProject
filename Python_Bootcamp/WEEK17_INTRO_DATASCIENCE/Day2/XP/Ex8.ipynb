{
 "cells": [
  {
   "cell_type": "code",
   "execution_count": 7,
   "metadata": {},
   "outputs": [
    {
     "name": "stdout",
     "output_type": "stream",
     "text": [
      "        Date  Temperature  Humidity  Wind_Speed\n",
      "0 2021-01-01           30        80           5\n",
      "1 2021-01-02           31        75           6\n",
      "2 2021-01-03           29        70           7\n",
      "3 2021-01-04           32        85           8\n",
      "4 2021-01-05           33        90           9\n",
      "5 2021-01-06           34        80           4\n",
      "6 2021-01-07           28        75          10\n",
      "7 2021-01-08           27        60           5\n",
      "8 2021-01-09           25        65           6\n",
      "9 2021-01-10           35        70           7\n"
     ]
    }
   ],
   "source": [
    "import pandas as pd\n",
    "\n",
    "temperature = [30, 31, 29, 32, 33, 34, 28, 27, 25, 35]\n",
    "humidity = [80, 75, 70, 85, 90, 80, 75, 60, 65, 70]\n",
    "wind_speed = [5, 6, 7, 8, 9, 4, 10, 5, 6, 7]\n",
    "\n",
    "date_rng = pd.date_range(start='2021-01-01', end='2021-01-10', freq='D')\n",
    "weather_data = pd.DataFrame({\n",
    "'Date': date_rng,\n",
    "'Temperature': temperature,\n",
    "'Humidity': humidity,\n",
    "'Wind_Speed': wind_speed\n",
    "})\n",
    "\n",
    "print(weather_data)\n"
   ]
  },
  {
   "cell_type": "code",
   "execution_count": 8,
   "metadata": {},
   "outputs": [
    {
     "name": "stdout",
     "output_type": "stream",
     "text": [
      "The frequency of the dataset is D\n"
     ]
    }
   ],
   "source": [
    "frequency = pd.infer_freq(weather_data['Date'])\n",
    "\n",
    "print(f\"The frequency of the dataset is {frequency}\")"
   ]
  },
  {
   "cell_type": "code",
   "execution_count": 9,
   "metadata": {},
   "outputs": [
    {
     "name": "stdout",
     "output_type": "stream",
     "text": [
      "            Temperature  Humidity  Wind_Speed\n",
      "Date                                         \n",
      "2021-01-01           30        80           5\n",
      "2021-01-02           31        75           6\n",
      "2021-01-03           29        70           7\n",
      "2021-01-04           32        85           8\n",
      "2021-01-05           33        90           9\n",
      "2021-01-06           34        80           4\n",
      "2021-01-07           28        75          10\n",
      "2021-01-08           27        60           5\n",
      "2021-01-09           25        65           6\n",
      "2021-01-10           35        70           7\n"
     ]
    }
   ],
   "source": [
    "weather_data.set_index('Date', inplace=True)\n",
    "print(weather_data)"
   ]
  }
 ],
 "metadata": {
  "kernelspec": {
   "display_name": "Python 3",
   "language": "python",
   "name": "python3"
  },
  "language_info": {
   "codemirror_mode": {
    "name": "ipython",
    "version": 3
   },
   "file_extension": ".py",
   "mimetype": "text/x-python",
   "name": "python",
   "nbconvert_exporter": "python",
   "pygments_lexer": "ipython3",
   "version": "3.10.0"
  }
 },
 "nbformat": 4,
 "nbformat_minor": 2
}
