{
 "cells": [
  {
   "cell_type": "code",
   "execution_count": 21,
   "metadata": {},
   "outputs": [
    {
     "name": "stdout",
     "output_type": "stream",
     "text": [
      "Razor is the oldest cat!\n"
     ]
    }
   ],
   "source": [
    "class Cat:\n",
    "    def __init__(self, cat_name, cat_age):\n",
    "        self.name = cat_name\n",
    "        self.age = cat_age\n",
    "    \n",
    "cat1 = Cat(\"Biggy\", 2)\n",
    "cat2 = Cat(\"Jumbo\", 4)\n",
    "cat3 = Cat(\"Razor\", 5)\n",
    "\n",
    "cats = [cat1, cat2, cat3]\n",
    "\n",
    "def old():\n",
    "    oldcat = cats[0]\n",
    "    for cat in cats:\n",
    "        if cat.age > oldcat.age:\n",
    "            oldcat = cat \n",
    "    print(f\"{oldcat.name} is the oldest cat!\")        \n",
    "\n",
    "old()"
   ]
  },
  {
   "cell_type": "code",
   "execution_count": 19,
   "metadata": {},
   "outputs": [
    {
     "name": "stdout",
     "output_type": "stream",
     "text": [
      "David's dog name is Rex and its height is 50\n",
      "Sarah's dog name is Teacup and its height is 20\n",
      "Barney goes woof!\n",
      "Barney jumps 70 cms high!\n",
      "Rex goes woof!\n",
      "Rex jumps 100 cms high!\n",
      "Teacup goes woof!\n",
      "Teacup jumps 40 cms high!\n",
      "Rex is the tallest dog\n"
     ]
    }
   ],
   "source": [
    "class Dog:\n",
    "    def __init__(self, dog_name, dog_height):\n",
    "        self.name = dog_name\n",
    "        self.height = dog_height\n",
    "\n",
    "    def bark(self):\n",
    "        print(f\"{self.name} goes woof!\")\n",
    "\n",
    "    def jump(self):\n",
    "        print(f\"{self.name} jumps {self.height*2} cms high!\")\n",
    "\n",
    "\n",
    "dog = Dog(\"Barney\", 35)\n",
    "davids_dog = Dog(\"Rex\", 50)\n",
    "sarahs_dog = Dog(\"Teacup\", 20)\n",
    "\n",
    "print(f\"David's dog name is {davids_dog.name} and its height is {davids_dog.height}\")\n",
    "print(f\"Sarah's dog name is {sarahs_dog.name} and its height is {sarahs_dog.height}\")\n",
    "\n",
    "dog.bark()\n",
    "dog.jump()\n",
    "davids_dog.bark()\n",
    "davids_dog.jump()\n",
    "sarahs_dog.bark()\n",
    "sarahs_dog.jump()\n",
    "\n",
    "dogs = [dog, davids_dog, sarahs_dog]\n",
    "\n",
    "def big():\n",
    "    bigdog = dogs[0]\n",
    "    for doggy in dogs:\n",
    "        if doggy.height > bigdog.height:\n",
    "            bigdog = doggy\n",
    "    print(f\"{bigdog.name} is the tallest dog\")        \n",
    "\n",
    "big()"
   ]
  },
  {
   "cell_type": "code",
   "execution_count": 2,
   "metadata": {},
   "outputs": [
    {
     "name": "stdout",
     "output_type": "stream",
     "text": [
      "There’s a lady who's sure\n",
      "all that glitters is gold\n",
      "and she’s buying a stairway to heaven\n"
     ]
    }
   ],
   "source": [
    "class Song():\n",
    "    def __init__(self, lyrics): \n",
    "        self.lyrics = lyrics\n",
    "\n",
    "    def sing_me_a_song(self):\n",
    "        for sentence in self.lyrics:\n",
    "            print(sentence)\n",
    "\n",
    "stairway= Song([\"There’s a lady who's sure\",\"all that glitters is gold\", \"and she’s buying a stairway to heaven\"])\n",
    "\n",
    "stairway.sing_me_a_song()\n"
   ]
  },
  {
   "cell_type": "code",
   "execution_count": null,
   "metadata": {},
   "outputs": [],
   "source": [
    "{ \n",
    "    1: \"Ape\",\n",
    "    2: [\"Baboon\", \"Bear\"],\n",
    "    3: ['Cat', 'Cougar'],\n",
    "    4: ['Eel', 'Emu']\n",
    "}\n",
    "\n",
    "class Zoo():\n",
    "    def __init__(self, zoo_name):\n",
    "        self.animals = []\n",
    "        self.name = zoo_name\n",
    "\n",
    "    def add_animal(new_animal):\n",
    "        pass\n",
    "\n",
    "    def get_animals():\n",
    "        for ani in zoo:\n",
    "            print(ani)\n",
    "\n",
    "    def sell_animal(animal_sold):\n",
    "        # check if animal exists and then removes animal from list \n",
    "        pass\n",
    "\n",
    "    def sort_animals():\n",
    "        for ani in zoo\n",
    "\n",
    "    def get_groups():\n",
    "        # that prints the animal/animals inside each group.\n",
    "        pass\n",
    "\n",
    "    def ramat_gat_safari():\n",
    "        # call all the methods\n",
    "        pass\n"
   ]
  }
 ],
 "metadata": {
  "kernelspec": {
   "display_name": "Python 3",
   "language": "python",
   "name": "python3"
  },
  "language_info": {
   "codemirror_mode": {
    "name": "ipython",
    "version": 3
   },
   "file_extension": ".py",
   "mimetype": "text/x-python",
   "name": "python",
   "nbconvert_exporter": "python",
   "pygments_lexer": "ipython3",
   "version": "3.10.0"
  }
 },
 "nbformat": 4,
 "nbformat_minor": 2
}
