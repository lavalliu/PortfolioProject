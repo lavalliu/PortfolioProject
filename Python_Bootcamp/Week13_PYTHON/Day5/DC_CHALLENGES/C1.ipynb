{
 "cells": [
  {
   "cell_type": "code",
   "execution_count": 10,
   "metadata": {},
   "outputs": [
    {
     "name": "stdout",
     "output_type": "stream",
     "text": [
      "['without', 'hello', 'bag', 'world']\n",
      "bag,hello,without,world\n"
     ]
    }
   ],
   "source": [
    "input = \"without,hello,bag,world\"\n",
    "list = input.split(\",\")\n",
    "print(list)\n",
    "list.sort()\n",
    "print(','.join(list))"
   ]
  }
 ],
 "metadata": {
  "kernelspec": {
   "display_name": "Python 3",
   "language": "python",
   "name": "python3"
  },
  "language_info": {
   "codemirror_mode": {
    "name": "ipython",
    "version": 3
   },
   "file_extension": ".py",
   "mimetype": "text/x-python",
   "name": "python",
   "nbconvert_exporter": "python",
   "pygments_lexer": "ipython3",
   "version": "3.10.0"
  }
 },
 "nbformat": 4,
 "nbformat_minor": 2
}
