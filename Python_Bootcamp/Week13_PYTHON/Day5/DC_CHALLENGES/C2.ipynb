{
 "cells": [
  {
   "cell_type": "code",
   "execution_count": 9,
   "metadata": {},
   "outputs": [
    {
     "name": "stdout",
     "output_type": "stream",
     "text": [
      "[\"Margaret's\", 'toy', 'is', 'a', 'pretty', 'doll.']\n",
      "Margaret's\n",
      "['A', 'thing', 'of', 'beauty', 'is', 'a', 'joy', 'forever.']\n",
      "forever.\n",
      "['Forgetfulness', 'is', 'by', 'all', 'means', 'powerless!']\n",
      "Forgetfulness\n"
     ]
    }
   ],
   "source": [
    "def longest_word(word):\n",
    "    list = word.split(\" \")\n",
    "    print(list)\n",
    "    x = 0\n",
    "    for item in list:\n",
    "        if len(item) > x:\n",
    "            x = len(item)\n",
    "            long = item\n",
    "    print(long)\n",
    "\n",
    "longest_word(\"Margaret's toy is a pretty doll.\")\n",
    "longest_word(\"A thing of beauty is a joy forever.\")\n",
    "longest_word(\"Forgetfulness is by all means powerless!\")"
   ]
  }
 ],
 "metadata": {
  "kernelspec": {
   "display_name": "Python 3",
   "language": "python",
   "name": "python3"
  },
  "language_info": {
   "codemirror_mode": {
    "name": "ipython",
    "version": 3
   },
   "file_extension": ".py",
   "mimetype": "text/x-python",
   "name": "python",
   "nbconvert_exporter": "python",
   "pygments_lexer": "ipython3",
   "version": "3.10.0"
  }
 },
 "nbformat": 4,
 "nbformat_minor": 2
}
